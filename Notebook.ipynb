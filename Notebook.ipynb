{
 "cells": [
  {
   "attachments": {},
   "cell_type": "markdown",
   "id": "d64a0632",
   "metadata": {},
   "source": [
    "# Greater Sydney Analysis"
   ]
  },
  {
   "attachments": {},
   "cell_type": "markdown",
   "id": "56eb01ba",
   "metadata": {},
   "source": [
    "## 1. Data Loading"
   ]
  },
  {
   "cell_type": "code",
   "execution_count": 1,
   "id": "40f0c0dc",
   "metadata": {},
   "outputs": [],
   "source": [
    "import pandas as pd\n",
    "import numpy as np\n",
    "import geopandas as gpd\n",
    "from shapely.geometry import Point, Polygon, MultiPolygon, MultiPoint\n",
    "from geoalchemy2 import Geometry, WKTElement\n",
    "import matplotlib.pyplot as plt\n",
    "\n",
    "srid = 4326\n",
    "credentials = \"Credentials.json\""
   ]
  },
  {
   "attachments": {},
   "cell_type": "markdown",
   "id": "3c6624a9",
   "metadata": {},
   "source": [
    "### PostgreSQL Connection"
   ]
  },
  {
   "cell_type": "code",
   "execution_count": 29,
   "id": "81a49063",
   "metadata": {},
   "outputs": [
    {
     "name": "stdout",
     "output_type": "stream",
     "text": [
      "Connected successfully.\n"
     ]
    },
    {
     "data": {
      "text/html": [
       "<div>\n",
       "<style scoped>\n",
       "    .dataframe tbody tr th:only-of-type {\n",
       "        vertical-align: middle;\n",
       "    }\n",
       "\n",
       "    .dataframe tbody tr th {\n",
       "        vertical-align: top;\n",
       "    }\n",
       "\n",
       "    .dataframe thead th {\n",
       "        text-align: right;\n",
       "    }\n",
       "</style>\n",
       "<table border=\"1\" class=\"dataframe\">\n",
       "  <thead>\n",
       "    <tr style=\"text-align: right;\">\n",
       "      <th></th>\n",
       "      <th>postgis_version</th>\n",
       "    </tr>\n",
       "  </thead>\n",
       "  <tbody>\n",
       "    <tr>\n",
       "      <th>0</th>\n",
       "      <td>3.3 USE_GEOS=1 USE_PROJ=1 USE_STATS=1</td>\n",
       "    </tr>\n",
       "  </tbody>\n",
       "</table>\n",
       "</div>"
      ],
      "text/plain": [
       "                         postgis_version\n",
       "0  3.3 USE_GEOS=1 USE_PROJ=1 USE_STATS=1"
      ]
     },
     "execution_count": 29,
     "metadata": {},
     "output_type": "execute_result"
    }
   ],
   "source": [
    "from sqlalchemy import create_engine\n",
    "import psycopg2\n",
    "import psycopg2.extras\n",
    "import json\n",
    "\n",
    "def pgconnect(credential_filepath, db_schema=\"public\"):\n",
    "    with open(credential_filepath) as f:\n",
    "        db_conn_dict = json.load(f)\n",
    "        host       = db_conn_dict['host']\n",
    "        db_user    = db_conn_dict['user']\n",
    "        db_pw      = db_conn_dict['password']\n",
    "        default_db = db_conn_dict['user']\n",
    "        try:\n",
    "            db = create_engine('postgresql+psycopg2://'+db_user+':'+db_pw+'@'+host+'/'+default_db, echo=False)\n",
    "            conn = db.connect()\n",
    "            print('Connected successfully.')\n",
    "        except Exception as e:\n",
    "            print(\"Unable to connect to the database.\")\n",
    "            print(e)\n",
    "            db, conn = None, None\n",
    "        return db,conn\n",
    "\n",
    "def query(conn, sqlcmd, args=None, df=True):\n",
    "    result = pd.DataFrame() if df else None\n",
    "    try:\n",
    "        if df:\n",
    "            result = pd.read_sql_query(sqlcmd, conn, params=args)\n",
    "        else:\n",
    "            result = conn.execute(sqlcmd, args).fetchall()\n",
    "            result = result[0] if len(result) == 1 else result\n",
    "    except Exception as e:\n",
    "        print(\"Error encountered: \", e, sep='\\n')\n",
    "    return result\n",
    "\n",
    "db, conn = pgconnect(credentials)\n",
    "query(conn, \"select PostGIS_Version()\")"
   ]
  },
  {
   "attachments": {},
   "cell_type": "markdown",
   "id": "f5f79827",
   "metadata": {},
   "source": [
    "### Master Imports"
   ]
  },
  {
   "cell_type": "code",
   "execution_count": 3,
   "id": "09c354e7",
   "metadata": {},
   "outputs": [],
   "source": [
    "# SA2 Regions Data\n",
    "regions_master = gpd.read_file(\"data/SA2_2021_AUST_SHP_GDA2020/SA2_2021_AUST_GDA2020.shp\")\n",
    "\n",
    "# Businesses Data\n",
    "businesses_master = pd.read_csv(\"data/Businesses.csv\")\n",
    "\n",
    "# Public Transport Stops Data\n",
    "stops_master = pd.read_csv('data/Stops.txt')\n",
    "\n",
    "# Polling Places Data\n",
    "polls_master = pd.read_csv('data/PollingPlaces2019.csv')\n",
    "\n",
    "# School cathchments data\n",
    "catchments_primary = gpd.read_file(\"data/catchments/catchments_primary.shp\")\n",
    "catchments_secondary = gpd.read_file(\"data/catchments/catchments_secondary.shp\")\n",
    "catchments_future = gpd.read_file(\"data/catchments/catchments_future.shp\")\n",
    "\n",
    "# Population Data\n",
    "population_master = pd.read_csv('data/Population.csv')\n",
    "\n",
    "# Income Data\n",
    "income_master = pd.read_csv('data/Income.csv', dtype={'sa2_code': str})\n"
   ]
  },
  {
   "attachments": {},
   "cell_type": "markdown",
   "id": "22dd31ba",
   "metadata": {},
   "source": [
    "### Cleaning"
   ]
  },
  {
   "cell_type": "code",
   "execution_count": 4,
   "id": "ba3c32f1",
   "metadata": {},
   "outputs": [],
   "source": [
    "# Multipolygon cleaning function\n",
    "def create_wkt_element(geom, srid):\n",
    "    if geom.geom_type == 'Polygon':\n",
    "        geom = MultiPolygon([geom])\n",
    "    return WKTElement(geom.wkt, srid)\n",
    "\n",
    "# Regions Cleaning\n",
    "regions = regions_master.copy()[(regions_master.geometry != None) & (regions_master.GCC_NAME21 == \"Greater Sydney\")]\n",
    "regions[\"geom\"] = regions[\"geometry\"].apply(lambda x: create_wkt_element(geom=x,srid=srid))\n",
    "regions = regions[[\"SA2_CODE21\", \"SA2_NAME21\", \"geom\"]].rename(columns = {\"SA2_CODE21\": \"sa2_code\", \"SA2_NAME21\": \"sa2_name\"})\n",
    "regions[\"sa2_code\"] = pd.to_numeric(regions[\"sa2_code\"], errors=\"coerce\")\n",
    "\n",
    "# Businesses Cleaning\n",
    "businesses = businesses_master[[\"industry_code\", \"industry_name\", \"sa2_code\", \"sa2_name\", \"total_businesses\"]]\n",
    "businesses = businesses.loc[businesses[\"sa2_code\"].isin(regions[\"sa2_code\"])]\n",
    "\n",
    "# Stops Cleaning\n",
    "stops = stops_master.copy()\n",
    "stops[\"geom\"] = gpd.points_from_xy(stops.stop_lon, stops.stop_lat)\n",
    "stops[\"geom\"] = stops[\"geom\"].apply(lambda x: WKTElement(x.wkt, srid=srid))\n",
    "stops = stops[[\"stop_id\", \"stop_name\", \"geom\"]]\n",
    "stops = stops.rename(columns={\n",
    "    \"stop_id\": \"id\",\n",
    "    \"stop_name\": \"name\"\n",
    "})\n",
    "stops[\"id\"] = pd.to_numeric(stops[\"id\"], errors=\"coerce\")\n",
    "stops = stops.dropna(subset=[\"id\"])\n",
    "stops = stops.drop_duplicates(subset=[\"id\", \"name\"])\n",
    "\n",
    "# Polls Cleaning\n",
    "polls = polls_master.copy()\n",
    "polls[\"geom\"] = gpd.points_from_xy(polls.longitude, polls.latitude)\n",
    "polls[\"geom\"] = polls[\"geom\"].apply(lambda x: WKTElement(x.wkt, srid=srid))\n",
    "polls = polls[[\"polling_place_id\", \"polling_place_name\", \"geom\"]]\n",
    "polls = polls.rename(columns={\n",
    "    \"polling_place_id\": \"id\",\n",
    "    \"polling_place_name\": \"name\"\n",
    "})\n",
    "\n",
    "# Schools Cleaning\n",
    "schools = pd.concat([catchments_primary, catchments_secondary, catchments_future], ignore_index = True)\n",
    "schools['geom'] = schools['geometry'].apply(lambda x: create_wkt_element(geom=x,srid=srid)) \n",
    "schools = schools[['USE_ID', 'CATCH_TYPE','geom']].drop_duplicates()\n",
    "schools = schools.rename(columns={\n",
    "   'USE_ID': 'id',\n",
    "   'CATCH_TYPE': 'type'\n",
    "})\n",
    "schools = schools.drop_duplicates(subset=[\"id\", \"type\"])\n",
    "\n",
    "# Population Cleaning\n",
    "population = population_master.copy()\n",
    "population['sa2_code'] = population['sa2_code'].astype(str)\n",
    "population.columns = map(str.lower, population.columns)\n",
    "if 'young_people' not in population.columns:\n",
    "  population['young_people'] = population.iloc[:, 2:6].sum(axis=1)\n",
    "population = population[['sa2_code', 'young_people', 'total_people']].drop_duplicates()\n",
    "population[\"sa2_code\"] = pd.to_numeric(population[\"sa2_code\"], errors=\"coerce\")\n",
    "population = population.loc[population[\"sa2_code\"].isin(regions[\"sa2_code\"])]\n",
    "\n",
    "# Income Cleaning\n",
    "income = income_master.copy()\n",
    "income.columns = map(str.lower, income.columns)\n",
    "income = income[['sa2_code', 'median_income']]\n",
    "income.drop(income[income['median_income']=='np'].index, inplace = True)\n",
    "income['median_income'] = income['median_income'].astype(int)\n",
    "income[\"sa2_code\"] = pd.to_numeric(income[\"sa2_code\"], errors=\"coerce\")\n",
    "income = income.loc[income[\"sa2_code\"].isin(regions[\"sa2_code\"])]"
   ]
  },
  {
   "attachments": {},
   "cell_type": "markdown",
   "id": "2f85606a",
   "metadata": {},
   "source": [
    "### Adding to Data to PostgreSQL"
   ]
  },
  {
   "cell_type": "code",
   "execution_count": 32,
   "id": "2a13337b",
   "metadata": {},
   "outputs": [
    {
     "data": {
      "text/plain": [
       "256"
      ]
     },
     "execution_count": 32,
     "metadata": {},
     "output_type": "execute_result"
    }
   ],
   "source": [
    "conn.execute(\"\"\"\n",
    "create schema if not exists sydney;\n",
    "set search_path to sydney,public,postgis;\n",
    "\"\"\")\n",
    "\n",
    "# Regions Table\n",
    "conn.execute(\"\"\"\n",
    "DROP TABLE IF EXISTS regions CASCADE;\n",
    "CREATE TABLE regions (\n",
    "    sa2_code INTEGER PRIMARY KEY, \n",
    "    sa2_name VARCHAR(100), \n",
    "    geom GEOMETRY(MULTIPOLYGON, {})\n",
    ");\"\"\".format(srid)\n",
    ")\n",
    "\n",
    "# Businesses Table\n",
    "conn.execute(\n",
    "\"\"\"\n",
    "DROP TABLE IF EXISTS businesses CASCADE;\n",
    "CREATE TABLE businesses (\n",
    "    industry_code CHAR(1),\n",
    "    industry_name VARCHAR(100),\n",
    "    sa2_code INTEGER,\n",
    "    sa2_name VARCHAR(100),\n",
    "    total_businesses INTEGER,\n",
    "    PRIMARY KEY (industry_code, sa2_code),\n",
    "    FOREIGN KEY (sa2_code) REFERENCES regions(sa2_code)\n",
    ");\n",
    "\"\"\"\n",
    ")\n",
    "             \n",
    "# Stops Table\n",
    "conn.execute(\"\"\"\n",
    "DROP TABLE IF EXISTS stops CASCADE;\n",
    "CREATE TABLE stops (\n",
    "    id INTEGER PRIMARY KEY, \n",
    "    name VARCHAR(100),\n",
    "    geom GEOMETRY(POINT, {})\n",
    ");\"\"\".format(srid)\n",
    ")\n",
    "\n",
    "# Polling Places Table\n",
    "conn.execute(\"\"\"\n",
    "DROP TABLE IF EXISTS polls CASCADE;\n",
    "CREATE TABLE polls (\n",
    "    id INTEGER PRIMARY KEY,\n",
    "    name VARCHAR(100),\n",
    "    geom GEOMETRY(POINT, {})\n",
    ");\"\"\".format(srid)\n",
    ")\n",
    "\n",
    "# Schools Table\n",
    "conn.execute(\"\"\"\n",
    "DROP TABLE IF EXISTS schools CASCADE;\n",
    "CREATE TABLE schools (\n",
    "    id INTEGER, \n",
    "    type VARCHAR(25), \n",
    "    geom GEOMETRY(MULTIPOLYGON, {}),\n",
    "    PRIMARY KEY (id, type)\n",
    ");\"\"\".format(srid)\n",
    ")\n",
    "\n",
    "# Population Table\n",
    "conn.execute(\"\"\"\n",
    "DROP TABLE IF EXISTS population CASCADE;\n",
    "CREATE TABLE population (\n",
    "    sa2_code INTEGER PRIMARY KEY, \n",
    "    young_people INTEGER,\n",
    "    total_people INTEGER,\n",
    "    FOREIGN KEY (sa2_code) REFERENCES regions(sa2_code)\n",
    ");\"\"\"\n",
    ")\n",
    "\n",
    "# Income Table\n",
    "conn.execute(\"\"\"\n",
    "DROP TABLE IF EXISTS income CASCADE;\n",
    "CREATE TABLE income (\n",
    "    sa2_code INTEGER PRIMARY KEY, \n",
    "    median_income INTEGER,\n",
    "    FOREIGN KEY (sa2_code) REFERENCES regions(sa2_code)\n",
    ");\"\"\"\n",
    ")\n",
    "\n",
    "regions.to_sql('regions', conn, if_exists='append', index=False, dtype={'geom': Geometry('MULTIPOLYGON', srid)})\n",
    "businesses.to_sql('businesses', conn, if_exists='append', index=False)\n",
    "stops.to_sql('stops', conn, if_exists='append', index=False, dtype={'geom': Geometry('POINT', srid)})\n",
    "polls.to_sql('polls', conn, if_exists='append', index=False, dtype={'geom': Geometry('POINT', srid)})\n",
    "schools.to_sql('schools', conn, if_exists='append', index=False, dtype={'geom': Geometry('MULTIPOLYGON', srid)})\n",
    "population.to_sql('population', conn, if_exists='append', index=False)\n",
    "income.to_sql('income', conn, if_exists='append', index=False)"
   ]
  },
  {
   "attachments": {},
   "cell_type": "markdown",
   "id": "1a24ace0",
   "metadata": {},
   "source": [
    "#### Creating Indexes"
   ]
  },
  {
   "cell_type": "code",
   "execution_count": 6,
   "id": "020d9c4d",
   "metadata": {},
   "outputs": [
    {
     "data": {
      "text/plain": [
       "<sqlalchemy.engine.cursor.LegacyCursorResult at 0x7fdb075611c0>"
      ]
     },
     "execution_count": 6,
     "metadata": {},
     "output_type": "execute_result"
    }
   ],
   "source": [
    "conn.execute(\"\"\"\n",
    "DROP INDEX IF EXISTS regions_geom_idx;\n",
    "CREATE INDEX regions_geom_idx\n",
    "  ON regions USING GIST(geom);\n",
    "\n",
    "DROP INDEX IF EXISTS regions_sa2_code_idx;\n",
    "CREATE INDEX regions_sa2_code_idx\n",
    "  ON regions(sa2_code);\n",
    "\n",
    "DROP INDEX IF EXISTS stops_geom_idx;\n",
    "CREATE INDEX stops_geom_idx\n",
    "  ON stops USING GIST(geom);\n",
    "\"\"\")"
   ]
  },
  {
   "attachments": {},
   "cell_type": "markdown",
   "id": "f00e732e",
   "metadata": {},
   "source": [
    "## 2. Scoring"
   ]
  },
  {
   "attachments": {},
   "cell_type": "markdown",
   "id": "7b62c1f7",
   "metadata": {},
   "source": [
    "#### Score Processing"
   ]
  },
  {
   "cell_type": "code",
   "execution_count": 33,
   "id": "f628c087",
   "metadata": {},
   "outputs": [
    {
     "data": {
      "text/plain": [
       "<sqlalchemy.engine.cursor.LegacyCursorResult at 0x7fdaf7ac3940>"
      ]
     },
     "execution_count": 33,
     "metadata": {},
     "output_type": "execute_result"
    }
   ],
   "source": [
    "conn.execute(\"\"\"\n",
    "Drop view if exists query_table cascade;\n",
    "\n",
    "CREATE VIEW query_table AS (\n",
    "    WITH\n",
    "    n_retail as (\n",
    "      SELECT sa2_code, SUM(total_businesses) as n_retail\n",
    "      FROM regions\n",
    "      LEFT JOIN businesses USING (sa2_code)\n",
    "      WHERE lower(industry_name) LIKE '%%retail%%'\n",
    "      GROUP BY sa2_code\n",
    "    ),\n",
    "\n",
    "    n_health as (\n",
    "      SELECT sa2_code, SUM(total_businesses) as n_health\n",
    "      FROM regions\n",
    "      LEFT JOIN businesses USING (sa2_code)\n",
    "      WHERE lower(industry_name) LIKE '%%health%%'\n",
    "      GROUP BY sa2_code\n",
    "    ),\n",
    "\n",
    "    n_stops as (\n",
    "        SELECT sa2_code, count(stops.id) as n_stops\n",
    "        FROM regions\n",
    "        LEFT JOIN stops ON (ST_Contains(regions.geom, stops.geom))\n",
    "        GROUP BY sa2_code\n",
    "    ),\n",
    "\n",
    "    n_polls as (\n",
    "        SELECT sa2_code, count(polls.id) as n_polls\n",
    "        FROM regions\n",
    "        LEFT JOIN polls ON (ST_Contains(regions.geom, polls.geom))\n",
    "        GROUP BY sa2_code\n",
    "    ),\n",
    "\n",
    "    n_catchments as (\n",
    "        SELECT sa2_code, count(schools.id) as n_catchments\n",
    "        FROM regions\n",
    "        LEFT JOIN schools ON ST_Intersects(regions.geom, schools.geom)\n",
    "        GROUP BY sa2_code, sa2_name, regions.geom\n",
    "    )\n",
    "\n",
    "    SELECT *\n",
    "    FROM regions\n",
    "    LEFT JOIN n_retail USING (sa2_code)\n",
    "    LEFT JOIN n_health USING (sa2_code)\n",
    "    LEFT JOIN n_stops USING (sa2_code)\n",
    "    LEFT JOIN n_polls USING (sa2_code)\n",
    "    LEFT JOIN n_catchments USING (sa2_code)\n",
    "    LEFT JOIN population USING (sa2_code)\n",
    "    LEFT JOIN income USING (sa2_code)\n",
    "    WHERE total_people >= 100\n",
    ");\n",
    "\n",
    "drop view if exists z_scores cascade;\n",
    "CREATE VIEW z_scores AS (\n",
    "    WITH \n",
    "    index_table AS (\n",
    "      SELECT *, \n",
    "      n_retail::float / total_people::float / 1000.0 as retail_index,\n",
    "      n_health::float / total_people::float / 1000.0 as health_index,\n",
    "      n_catchments::float / young_people::float / 1000.0 as school_index,\n",
    "      n_stops::float / ST_Area(geom) as stops_index,\n",
    "      n_polls::float / ST_Area(geom) as polls_index\n",
    "      FROM query_table\n",
    "    ),\n",
    "\n",
    "    retail_norm AS (\n",
    "      SELECT AVG(retail_index) as mean,\n",
    "            stddev(retail_index) as sd\n",
    "      FROM index_table\n",
    "    ),\n",
    "\n",
    "    health_norm AS (\n",
    "      SELECT AVG(health_index) as mean,\n",
    "            stddev(health_index) as sd\n",
    "      FROM index_table\n",
    "    ),\n",
    "\n",
    "    stops_norm AS (\n",
    "      SELECT AVG(stops_index) as mean,\n",
    "            stddev(stops_index) as sd\n",
    "      FROM index_table\n",
    "    ),\n",
    "\n",
    "    polls_norm AS (\n",
    "      SELECT AVG(polls_index) as mean,\n",
    "            stddev(polls_index) as sd\n",
    "      FROM index_table\n",
    "    ),\n",
    "\n",
    "    schools_norm AS (\n",
    "      SELECT AVG(school_index) as mean,\n",
    "            stddev(school_index) as sd\n",
    "      FROM index_table)\n",
    "        \n",
    "    SELECT\n",
    "        sa2_code, sa2_name, median_income, geom,\n",
    "        (retail_index - retail_norm.mean) / retail_norm.sd AS z_retail,\n",
    "        (health_index - health_norm.mean) / health_norm.sd AS z_health,\n",
    "        (stops_index - stops_norm.mean) / stops_norm.sd AS z_stops,\n",
    "        (polls_index - polls_norm.mean) / polls_norm.sd AS z_polls,\n",
    "        (school_index - schools_norm.mean) / schools_norm.sd AS z_schools\n",
    "    FROM retail_norm, health_norm, stops_norm, polls_norm, schools_norm, index_table\n",
    ");\n",
    "\"\"\")\n",
    "\n",
    "conn.execute(\"\"\"\n",
    "  DROP VIEW IF EXISTS scores CASCADE;\n",
    "    CREATE VIEW scores AS (\n",
    "        WITH z_sum AS (\n",
    "            SELECT z_scores.*,\n",
    "                  (z_retail + z_health + z_stops + z_polls + z_schools) as z_sum\n",
    "            FROM z_scores\n",
    "        )\n",
    "\n",
    "        SELECT sa2_code, sa2_name, median_income, geom,\n",
    "              (1.0 / (1.0 + exp(-z_sum))) as score\n",
    "        FROM z_sum\n",
    "        ORDER BY score desc\n",
    "    )\n",
    "\"\"\")"
   ]
  },
  {
   "attachments": {},
   "cell_type": "markdown",
   "id": "81923410",
   "metadata": {},
   "source": [
    "#### Score Retrieval"
   ]
  },
  {
   "cell_type": "code",
   "execution_count": 8,
   "id": "5c541a9a",
   "metadata": {},
   "outputs": [
    {
     "data": {
      "text/html": [
       "<div>\n",
       "<style scoped>\n",
       "    .dataframe tbody tr th:only-of-type {\n",
       "        vertical-align: middle;\n",
       "    }\n",
       "\n",
       "    .dataframe tbody tr th {\n",
       "        vertical-align: top;\n",
       "    }\n",
       "\n",
       "    .dataframe thead th {\n",
       "        text-align: right;\n",
       "    }\n",
       "</style>\n",
       "<table border=\"1\" class=\"dataframe\">\n",
       "  <thead>\n",
       "    <tr style=\"text-align: right;\">\n",
       "      <th></th>\n",
       "      <th>sa2_code</th>\n",
       "      <th>sa2_name</th>\n",
       "      <th>median_income</th>\n",
       "      <th>geom</th>\n",
       "      <th>score</th>\n",
       "    </tr>\n",
       "  </thead>\n",
       "  <tbody>\n",
       "    <tr>\n",
       "      <th>0</th>\n",
       "      <td>117031644</td>\n",
       "      <td>Sydney (North) - Millers Point</td>\n",
       "      <td>NaN</td>\n",
       "      <td>MULTIPOLYGON (((151.22538 -33.85525, 151.22525...</td>\n",
       "      <td>1.000000</td>\n",
       "    </tr>\n",
       "    <tr>\n",
       "      <th>1</th>\n",
       "      <td>117011320</td>\n",
       "      <td>Banksmeadow</td>\n",
       "      <td>68584.0</td>\n",
       "      <td>MULTIPOLYGON (((151.20807 -33.95405, 151.20817...</td>\n",
       "      <td>1.000000</td>\n",
       "    </tr>\n",
       "    <tr>\n",
       "      <th>2</th>\n",
       "      <td>117031645</td>\n",
       "      <td>Sydney (South) - Haymarket</td>\n",
       "      <td>NaN</td>\n",
       "      <td>MULTIPOLYGON (((151.19852 -33.87579, 151.19847...</td>\n",
       "      <td>1.000000</td>\n",
       "    </tr>\n",
       "    <tr>\n",
       "      <th>3</th>\n",
       "      <td>117031329</td>\n",
       "      <td>Darlinghurst</td>\n",
       "      <td>71676.0</td>\n",
       "      <td>MULTIPOLYGON (((151.21227 -33.87631, 151.21232...</td>\n",
       "      <td>0.999972</td>\n",
       "    </tr>\n",
       "    <tr>\n",
       "      <th>4</th>\n",
       "      <td>119031664</td>\n",
       "      <td>Hurstville - Central</td>\n",
       "      <td>NaN</td>\n",
       "      <td>MULTIPOLYGON (((151.10102 -33.96455, 151.10154...</td>\n",
       "      <td>0.999540</td>\n",
       "    </tr>\n",
       "    <tr>\n",
       "      <th>...</th>\n",
       "      <td>...</td>\n",
       "      <td>...</td>\n",
       "      <td>...</td>\n",
       "      <td>...</td>\n",
       "      <td>...</td>\n",
       "    </tr>\n",
       "    <tr>\n",
       "      <th>355</th>\n",
       "      <td>123031447</td>\n",
       "      <td>Picton - Tahmoor - Buxton</td>\n",
       "      <td>55890.0</td>\n",
       "      <td>MULTIPOLYGON (((150.50758 -34.25908, 150.50120...</td>\n",
       "      <td>0.034575</td>\n",
       "    </tr>\n",
       "    <tr>\n",
       "      <th>356</th>\n",
       "      <td>102021050</td>\n",
       "      <td>Lake Munmorah - Mannering Park</td>\n",
       "      <td>46693.0</td>\n",
       "      <td>MULTIPOLYGON (((151.56544 -33.16638, 151.56548...</td>\n",
       "      <td>0.034387</td>\n",
       "    </tr>\n",
       "    <tr>\n",
       "      <th>357</th>\n",
       "      <td>102021045</td>\n",
       "      <td>Blue Haven - San Remo</td>\n",
       "      <td>49191.0</td>\n",
       "      <td>MULTIPOLYGON (((151.49030 -33.20791, 151.48825...</td>\n",
       "      <td>0.034081</td>\n",
       "    </tr>\n",
       "    <tr>\n",
       "      <th>358</th>\n",
       "      <td>124031707</td>\n",
       "      <td>Cranebrook - Castlereagh</td>\n",
       "      <td>NaN</td>\n",
       "      <td>MULTIPOLYGON (((150.65869 -33.70214, 150.65871...</td>\n",
       "      <td>0.033873</td>\n",
       "    </tr>\n",
       "    <tr>\n",
       "      <th>359</th>\n",
       "      <td>124031465</td>\n",
       "      <td>Warragamba - Silverdale</td>\n",
       "      <td>60645.0</td>\n",
       "      <td>MULTIPOLYGON (((150.58006 -33.89333, 150.58846...</td>\n",
       "      <td>0.031246</td>\n",
       "    </tr>\n",
       "  </tbody>\n",
       "</table>\n",
       "<p>360 rows × 5 columns</p>\n",
       "</div>"
      ],
      "text/plain": [
       "      sa2_code                        sa2_name  median_income  \\\n",
       "0    117031644  Sydney (North) - Millers Point            NaN   \n",
       "1    117011320                     Banksmeadow        68584.0   \n",
       "2    117031645      Sydney (South) - Haymarket            NaN   \n",
       "3    117031329                    Darlinghurst        71676.0   \n",
       "4    119031664            Hurstville - Central            NaN   \n",
       "..         ...                             ...            ...   \n",
       "355  123031447       Picton - Tahmoor - Buxton        55890.0   \n",
       "356  102021050  Lake Munmorah - Mannering Park        46693.0   \n",
       "357  102021045           Blue Haven - San Remo        49191.0   \n",
       "358  124031707        Cranebrook - Castlereagh            NaN   \n",
       "359  124031465         Warragamba - Silverdale        60645.0   \n",
       "\n",
       "                                                  geom     score  \n",
       "0    MULTIPOLYGON (((151.22538 -33.85525, 151.22525...  1.000000  \n",
       "1    MULTIPOLYGON (((151.20807 -33.95405, 151.20817...  1.000000  \n",
       "2    MULTIPOLYGON (((151.19852 -33.87579, 151.19847...  1.000000  \n",
       "3    MULTIPOLYGON (((151.21227 -33.87631, 151.21232...  0.999972  \n",
       "4    MULTIPOLYGON (((151.10102 -33.96455, 151.10154...  0.999540  \n",
       "..                                                 ...       ...  \n",
       "355  MULTIPOLYGON (((150.50758 -34.25908, 150.50120...  0.034575  \n",
       "356  MULTIPOLYGON (((151.56544 -33.16638, 151.56548...  0.034387  \n",
       "357  MULTIPOLYGON (((151.49030 -33.20791, 151.48825...  0.034081  \n",
       "358  MULTIPOLYGON (((150.65869 -33.70214, 150.65871...  0.033873  \n",
       "359  MULTIPOLYGON (((150.58006 -33.89333, 150.58846...  0.031246  \n",
       "\n",
       "[360 rows x 5 columns]"
      ]
     },
     "execution_count": 8,
     "metadata": {},
     "output_type": "execute_result"
    }
   ],
   "source": [
    "scores_master = gpd.GeoDataFrame.from_postgis(\"SELECT * FROM scores\", conn)\n",
    "scores_master"
   ]
  },
  {
   "attachments": {},
   "cell_type": "markdown",
   "id": "c65df493",
   "metadata": {},
   "source": [
    "## 3. Extending Score"
   ]
  },
  {
   "attachments": {},
   "cell_type": "markdown",
   "id": "32d6420e",
   "metadata": {},
   "source": [
    "#### Homelessness Data"
   ]
  },
  {
   "cell_type": "code",
   "execution_count": 34,
   "id": "254aa29f",
   "metadata": {},
   "outputs": [
    {
     "data": {
      "text/plain": [
       "343"
      ]
     },
     "execution_count": 34,
     "metadata": {},
     "output_type": "execute_result"
    }
   ],
   "source": [
    "homelessness_master = pd.read_excel('data/Homelessness.xlsx', dtype={'sa2_code': int})\n",
    "\n",
    "# Cleaning\n",
    "homelessness = homelessness_master.copy()\n",
    "homelessness.columns = map(str.lower, homelessness.columns)\n",
    "homelessness.dropna(inplace=True)\n",
    "homelessness.rename(columns = {\"sa2 name\":\"sa2_name\", \"all homeless persons\": \"homeless_persons\"}, inplace=True)\n",
    "\n",
    "# Table\n",
    "conn.execute(\"\"\"\n",
    "DROP TABLE IF EXISTS homelessness CASCADE;\n",
    "CREATE TABLE homelessness (\n",
    "    sa2_name VARCHAR(100) PRIMARY KEY, \n",
    "    homeless_persons INTEGER\n",
    ");\"\"\"\n",
    ")\n",
    "\n",
    "# Adding Data to SQL\n",
    "homelessness.to_sql('homelessness', conn, if_exists='append', index=False)"
   ]
  },
  {
   "attachments": {},
   "cell_type": "markdown",
   "id": "b7c44eed",
   "metadata": {},
   "source": [
    "#### Emergency Health Data"
   ]
  },
  {
   "cell_type": "code",
   "execution_count": 35,
   "id": "ca2a7659",
   "metadata": {},
   "outputs": [
    {
     "data": {
      "text/plain": [
       "306"
      ]
     },
     "execution_count": 35,
     "metadata": {},
     "output_type": "execute_result"
    }
   ],
   "source": [
    "import fiona\n",
    "\n",
    "fiona.supported_drivers['KML'] = 'rw'\n",
    "emergency_master = gpd.read_file('data/NSW Ambulance Station_EPSG4326.kml', driver='KML')\n",
    "\n",
    "# Cleaning\n",
    "emergency = emergency_master.copy()\n",
    "emergency[\"geom\"] = emergency[\"geometry\"].apply(lambda x: WKTElement(x.wkt,srid=srid))\n",
    "emergency = emergency[[\"Name\", \"geom\"]]\n",
    "emergency = emergency.rename(columns={\"Name\": \"name\"})\n",
    "\n",
    "# Table\n",
    "conn.execute(\"\"\"\n",
    "DROP TABLE IF EXISTS emergency CASCADE;\n",
    "CREATE TABLE emergency (\n",
    "    name VARCHAR(20) PRIMARY KEY,\n",
    "    geom GEOMETRY(POINTZ, {})\n",
    ");\"\"\".format(srid)\n",
    ")\n",
    "\n",
    "# Adding data to SQL\n",
    "emergency.to_sql('emergency', conn, if_exists='append', index=False, dtype={'geom': Geometry('POINTZ', srid)})"
   ]
  },
  {
   "attachments": {},
   "cell_type": "markdown",
   "id": "2525a175",
   "metadata": {},
   "source": [
    "#### NSW Budget"
   ]
  },
  {
   "cell_type": "code",
   "execution_count": 36,
   "id": "3358a4ec",
   "metadata": {
    "scrolled": true
   },
   "outputs": [
    {
     "data": {
      "text/plain": [
       "349"
      ]
     },
     "execution_count": 36,
     "metadata": {},
     "output_type": "execute_result"
    }
   ],
   "source": [
    "budget_master = pd.read_json(\"data/nswbudgetpaper2201516points.json\")\n",
    "\n",
    "# Cleaning\n",
    "def convert_to_point(coord):\n",
    "    if not type(coord[0]) == list:\n",
    "        return MultiPoint([coord])\n",
    "    else:\n",
    "        return MultiPoint(coord)\n",
    "\n",
    "budget = pd.concat([budget_master, budget_master.properties.apply(pd.Series)], axis=1)\n",
    "budget.drop(['properties'], axis=1, inplace=True)\n",
    "budget['geometry'] = budget['geometry'].apply(lambda x: convert_to_point(x['coordinates']))\n",
    "budget['geom'] = budget['geometry'].apply(lambda x: create_wkt_element(geom=x,srid=srid)) \n",
    "\n",
    "budget = budget[[\"geom\", \"AgencyName\", \"EstSpendTo20150630\"]]\n",
    "budget = budget.rename(columns={\"AgencyName\": \"agency\", \"EstSpendTo20150630\": \"est_spending\"})\n",
    "budget[\"est_spending\"] = budget[\"est_spending\"].astype(float)\n",
    "budget = budget.dropna()\n",
    "\n",
    "# Table\n",
    "conn.execute(\n",
    "\"\"\"\n",
    "DROP TABLE IF EXISTS budgets CASCADE;\n",
    "CREATE TABLE budgets (\n",
    "    project_id SERIAL PRIMARY KEY,\n",
    "    agency VARCHAR(100),\n",
    "    est_spending FLOAT,\n",
    "    geom GEOMETRY(MULTIPOINT, {})\n",
    ");\n",
    "\"\"\".format(srid))\n",
    "\n",
    "# Adding Data to SQL\n",
    "budget.to_sql(\"budgets\", conn, if_exists='append', index=False, dtype={'geom': Geometry(geometry_type='MULTIPOINT', srid=srid)})"
   ]
  },
  {
   "attachments": {},
   "cell_type": "markdown",
   "id": "b2c88886",
   "metadata": {},
   "source": [
    "#### Score Processing"
   ]
  },
  {
   "cell_type": "code",
   "execution_count": 37,
   "id": "44115c9b",
   "metadata": {},
   "outputs": [
    {
     "data": {
      "text/plain": [
       "<sqlalchemy.engine.cursor.LegacyCursorResult at 0x7fdaf695f5b0>"
      ]
     },
     "execution_count": 37,
     "metadata": {},
     "output_type": "execute_result"
    }
   ],
   "source": [
    "conn.execute(\"\"\"\n",
    "drop view if exists ext_query_table cascade;\n",
    "CREATE VIEW ext_query_table AS (\n",
    "    WITH\n",
    "    n_emergency as (\n",
    "        SELECT sa2_code, count(name) as n_emergency\n",
    "        FROM regions\n",
    "        LEFT JOIN emergency ON (ST_Contains(regions.geom, emergency.geom))\n",
    "        GROUP BY sa2_code\n",
    "    ),\n",
    "\n",
    "    expenditure as (\n",
    "      SELECT sa2_code, sum(case when est_spending <> 'NaN' then est_spending else 0 end) as expenditure\n",
    "      FROM regions\n",
    "      LEFT JOIN budgets ON (ST_Intersects(regions.geom, budgets.geom) OR ST_Contains(regions.geom, budgets.geom))\n",
    "      GROUP BY sa2_code\n",
    "    )\n",
    "\n",
    "    SELECT *\n",
    "    FROM query_table\n",
    "    LEFT JOIN homelessness USING (sa2_name)\n",
    "    LEFT JOIN n_emergency USING (sa2_code)\n",
    "    LEFT JOIN expenditure USING (sa2_code)\n",
    ");\n",
    "\n",
    "drop view if exists ext_z_scores cascade;\n",
    "CREATE VIEW ext_z_scores AS (\n",
    "    WITH index_table AS (\n",
    "        SELECT *,\n",
    "        n_emergency::float / total_people::float / 1000.0 as emergency_index,\n",
    "        homeless_persons::float / total_people::float as homelessness_index,\n",
    "        expenditure::float / total_people::float as expenditure_index\n",
    "        FROM ext_query_table\n",
    "    ),\n",
    "\n",
    "    emergency_norm AS (\n",
    "      SELECT AVG(emergency_index) as mean,\n",
    "             stddev(emergency_index) as sd\n",
    "      FROM index_table\n",
    "    ),\n",
    "\n",
    "    homelessness_norm AS (\n",
    "      SELECT AVG(homelessness_index) as mean,\n",
    "             stddev(homelessness_index) as sd\n",
    "      FROM index_table\n",
    "    ),\n",
    "\n",
    "    expenditure_norm AS (\n",
    "      SELECT AVG(expenditure_index) as mean,\n",
    "             stddev(expenditure_index) as sd\n",
    "      FROM index_table\n",
    "    )\n",
    "\n",
    "    SELECT z_scores.*,\n",
    "    (emergency_index - emergency_norm.mean) / emergency_norm.sd AS z_emergency,\n",
    "    (homelessness_index - homelessness_norm.mean) / homelessness_norm.sd AS z_homelessness,\n",
    "    (expenditure_index - expenditure_norm.mean) / expenditure_norm.sd AS z_expenditure\n",
    "    FROM emergency_norm, homelessness_norm, expenditure_norm, index_table\n",
    "    JOIN z_scores USING (sa2_code)\n",
    ");\n",
    "\"\"\")\n",
    "\n",
    "conn.execute(\"\"\"\n",
    "    DROP VIEW IF EXISTS ext_scores CASCADE;\n",
    "    CREATE VIEW ext_scores AS (\n",
    "        WITH z_sum AS (\n",
    "            SELECT ext_z_scores.*,\n",
    "                (z_retail + z_health + z_stops + z_polls + z_schools + z_emergency - z_homelessness + z_expenditure) as z_sum\n",
    "            FROM ext_z_scores\n",
    "        )\n",
    "\n",
    "        SELECT sa2_code, sa2_name, median_income, geom,\n",
    "            (1.0 / (1.0 + exp(-z_sum))) as score\n",
    "        FROM z_sum\n",
    "        ORDER BY score desc\n",
    "    )\n",
    "\"\"\")"
   ]
  },
  {
   "attachments": {},
   "cell_type": "markdown",
   "id": "7251fdad",
   "metadata": {},
   "source": [
    "#### Score Retrieval"
   ]
  },
  {
   "cell_type": "code",
   "execution_count": 13,
   "id": "8df74e30",
   "metadata": {},
   "outputs": [
    {
     "data": {
      "text/html": [
       "<div>\n",
       "<style scoped>\n",
       "    .dataframe tbody tr th:only-of-type {\n",
       "        vertical-align: middle;\n",
       "    }\n",
       "\n",
       "    .dataframe tbody tr th {\n",
       "        vertical-align: top;\n",
       "    }\n",
       "\n",
       "    .dataframe thead th {\n",
       "        text-align: right;\n",
       "    }\n",
       "</style>\n",
       "<table border=\"1\" class=\"dataframe\">\n",
       "  <thead>\n",
       "    <tr style=\"text-align: right;\">\n",
       "      <th></th>\n",
       "      <th>sa2_code</th>\n",
       "      <th>sa2_name</th>\n",
       "      <th>median_income</th>\n",
       "      <th>geom</th>\n",
       "      <th>score</th>\n",
       "    </tr>\n",
       "  </thead>\n",
       "  <tbody>\n",
       "    <tr>\n",
       "      <th>0</th>\n",
       "      <td>102011040</td>\n",
       "      <td>Umina - Booker Bay - Patonga</td>\n",
       "      <td>47126.0</td>\n",
       "      <td>MULTIPOLYGON (((151.31497 -33.55578, 151.31496...</td>\n",
       "      <td>NaN</td>\n",
       "    </tr>\n",
       "    <tr>\n",
       "      <th>1</th>\n",
       "      <td>102011029</td>\n",
       "      <td>Box Head - MacMasters Beach</td>\n",
       "      <td>48724.0</td>\n",
       "      <td>MULTIPOLYGON (((151.37484 -33.50052, 151.37507...</td>\n",
       "      <td>NaN</td>\n",
       "    </tr>\n",
       "    <tr>\n",
       "      <th>2</th>\n",
       "      <td>102011030</td>\n",
       "      <td>Calga - Kulnura</td>\n",
       "      <td>46228.0</td>\n",
       "      <td>MULTIPOLYGON (((151.20449 -33.53280, 151.20448...</td>\n",
       "      <td>NaN</td>\n",
       "    </tr>\n",
       "    <tr>\n",
       "      <th>3</th>\n",
       "      <td>102011031</td>\n",
       "      <td>Erina - Green Point</td>\n",
       "      <td>48292.0</td>\n",
       "      <td>MULTIPOLYGON (((151.37194 -33.43698, 151.37288...</td>\n",
       "      <td>NaN</td>\n",
       "    </tr>\n",
       "    <tr>\n",
       "      <th>4</th>\n",
       "      <td>102011032</td>\n",
       "      <td>Gosford - Springfield</td>\n",
       "      <td>51999.0</td>\n",
       "      <td>MULTIPOLYGON (((151.32349 -33.42779, 151.32342...</td>\n",
       "      <td>NaN</td>\n",
       "    </tr>\n",
       "    <tr>\n",
       "      <th>...</th>\n",
       "      <td>...</td>\n",
       "      <td>...</td>\n",
       "      <td>...</td>\n",
       "      <td>...</td>\n",
       "      <td>...</td>\n",
       "    </tr>\n",
       "    <tr>\n",
       "      <th>355</th>\n",
       "      <td>123031446</td>\n",
       "      <td>Douglas Park - Appin</td>\n",
       "      <td>61453.0</td>\n",
       "      <td>MULTIPOLYGON (((150.63446 -34.19147, 150.63454...</td>\n",
       "      <td>0.020364</td>\n",
       "    </tr>\n",
       "    <tr>\n",
       "      <th>356</th>\n",
       "      <td>123021436</td>\n",
       "      <td>Bradbury - Wedderburn</td>\n",
       "      <td>53106.0</td>\n",
       "      <td>MULTIPOLYGON (((150.80612 -34.08701, 150.80621...</td>\n",
       "      <td>0.019401</td>\n",
       "    </tr>\n",
       "    <tr>\n",
       "      <th>357</th>\n",
       "      <td>123021444</td>\n",
       "      <td>Rosemeadow - Glen Alpine</td>\n",
       "      <td>53430.0</td>\n",
       "      <td>MULTIPOLYGON (((150.73993 -34.09392, 150.74001...</td>\n",
       "      <td>0.017722</td>\n",
       "    </tr>\n",
       "    <tr>\n",
       "      <th>358</th>\n",
       "      <td>124031707</td>\n",
       "      <td>Cranebrook - Castlereagh</td>\n",
       "      <td>NaN</td>\n",
       "      <td>MULTIPOLYGON (((150.65869 -33.70214, 150.65871...</td>\n",
       "      <td>0.017060</td>\n",
       "    </tr>\n",
       "    <tr>\n",
       "      <th>359</th>\n",
       "      <td>118021565</td>\n",
       "      <td>Kingsford</td>\n",
       "      <td>50113.0</td>\n",
       "      <td>MULTIPOLYGON (((151.23175 -33.92014, 151.23211...</td>\n",
       "      <td>0.014228</td>\n",
       "    </tr>\n",
       "  </tbody>\n",
       "</table>\n",
       "<p>360 rows × 5 columns</p>\n",
       "</div>"
      ],
      "text/plain": [
       "      sa2_code                      sa2_name  median_income  \\\n",
       "0    102011040  Umina - Booker Bay - Patonga        47126.0   \n",
       "1    102011029   Box Head - MacMasters Beach        48724.0   \n",
       "2    102011030               Calga - Kulnura        46228.0   \n",
       "3    102011031           Erina - Green Point        48292.0   \n",
       "4    102011032         Gosford - Springfield        51999.0   \n",
       "..         ...                           ...            ...   \n",
       "355  123031446          Douglas Park - Appin        61453.0   \n",
       "356  123021436         Bradbury - Wedderburn        53106.0   \n",
       "357  123021444      Rosemeadow - Glen Alpine        53430.0   \n",
       "358  124031707      Cranebrook - Castlereagh            NaN   \n",
       "359  118021565                     Kingsford        50113.0   \n",
       "\n",
       "                                                  geom     score  \n",
       "0    MULTIPOLYGON (((151.31497 -33.55578, 151.31496...       NaN  \n",
       "1    MULTIPOLYGON (((151.37484 -33.50052, 151.37507...       NaN  \n",
       "2    MULTIPOLYGON (((151.20449 -33.53280, 151.20448...       NaN  \n",
       "3    MULTIPOLYGON (((151.37194 -33.43698, 151.37288...       NaN  \n",
       "4    MULTIPOLYGON (((151.32349 -33.42779, 151.32342...       NaN  \n",
       "..                                                 ...       ...  \n",
       "355  MULTIPOLYGON (((150.63446 -34.19147, 150.63454...  0.020364  \n",
       "356  MULTIPOLYGON (((150.80612 -34.08701, 150.80621...  0.019401  \n",
       "357  MULTIPOLYGON (((150.73993 -34.09392, 150.74001...  0.017722  \n",
       "358  MULTIPOLYGON (((150.65869 -33.70214, 150.65871...  0.017060  \n",
       "359  MULTIPOLYGON (((151.23175 -33.92014, 151.23211...  0.014228  \n",
       "\n",
       "[360 rows x 5 columns]"
      ]
     },
     "execution_count": 13,
     "metadata": {},
     "output_type": "execute_result"
    }
   ],
   "source": [
    "ext_scores_master = gpd.GeoDataFrame.from_postgis(\"SELECT * FROM ext_scores\", conn)\n",
    "ext_scores_master"
   ]
  },
  {
   "attachments": {},
   "cell_type": "markdown",
   "id": "55d72c90",
   "metadata": {},
   "source": [
    "## 4. Correlation"
   ]
  },
  {
   "attachments": {},
   "cell_type": "markdown",
   "id": "f74eed18",
   "metadata": {},
   "source": [
    "#### Correlation between each metric and median income"
   ]
  },
  {
   "cell_type": "code",
   "execution_count": 14,
   "id": "9e40d2b6",
   "metadata": {},
   "outputs": [
    {
     "data": {
      "text/html": [
       "<div>\n",
       "<style scoped>\n",
       "    .dataframe tbody tr th:only-of-type {\n",
       "        vertical-align: middle;\n",
       "    }\n",
       "\n",
       "    .dataframe tbody tr th {\n",
       "        vertical-align: top;\n",
       "    }\n",
       "\n",
       "    .dataframe thead th {\n",
       "        text-align: right;\n",
       "    }\n",
       "</style>\n",
       "<table border=\"1\" class=\"dataframe\">\n",
       "  <thead>\n",
       "    <tr style=\"text-align: right;\">\n",
       "      <th></th>\n",
       "      <th>Retail Coef</th>\n",
       "      <th>Health Coef</th>\n",
       "      <th>Stops Coef</th>\n",
       "      <th>Polls Coef</th>\n",
       "      <th>Schools Coef</th>\n",
       "      <th>Emergency Coef</th>\n",
       "      <th>Homelessness Coef</th>\n",
       "      <th>Expenditure Coef</th>\n",
       "    </tr>\n",
       "  </thead>\n",
       "  <tbody>\n",
       "    <tr>\n",
       "      <th>0</th>\n",
       "      <td>0.145004</td>\n",
       "      <td>0.483862</td>\n",
       "      <td>0.090197</td>\n",
       "      <td>0.302198</td>\n",
       "      <td>0.042389</td>\n",
       "      <td>0.19699</td>\n",
       "      <td>-0.177159</td>\n",
       "      <td>0.020766</td>\n",
       "    </tr>\n",
       "  </tbody>\n",
       "</table>\n",
       "</div>"
      ],
      "text/plain": [
       "   Retail Coef  Health Coef  Stops Coef  Polls Coef  Schools Coef  \\\n",
       "0     0.145004     0.483862    0.090197    0.302198      0.042389   \n",
       "\n",
       "   Emergency Coef  Homelessness Coef  Expenditure Coef  \n",
       "0         0.19699          -0.177159          0.020766  "
      ]
     },
     "execution_count": 14,
     "metadata": {},
     "output_type": "execute_result"
    }
   ],
   "source": [
    "sql = \"\"\"\n",
    "SELECT \n",
    "  corr(median_income, z_retail) as \"Retail Coef\",\n",
    "  corr(median_income, z_health) as \"Health Coef\",\n",
    "  corr(median_income, z_stops) as \"Stops Coef\",\n",
    "  corr(median_income, z_polls) as \"Polls Coef\",\n",
    "  corr(median_income, z_schools) as \"Schools Coef\",\n",
    "  corr(median_income, z_emergency) as \"Emergency Coef\",\n",
    "  corr(median_income, z_homelessness) as \"Homelessness Coef\",\n",
    "  corr(median_income, z_expenditure) as \"Expenditure Coef\"\n",
    "FROM ext_z_scores\n",
    "\"\"\"\n",
    "\n",
    "query(conn, sql)"
   ]
  },
  {
   "attachments": {},
   "cell_type": "markdown",
   "id": "3cedcd73",
   "metadata": {},
   "source": [
    "#### Correlation between the original (without additional datasets) score and income"
   ]
  },
  {
   "cell_type": "code",
   "execution_count": 38,
   "id": "86456573",
   "metadata": {},
   "outputs": [
    {
     "data": {
      "text/html": [
       "<div>\n",
       "<style scoped>\n",
       "    .dataframe tbody tr th:only-of-type {\n",
       "        vertical-align: middle;\n",
       "    }\n",
       "\n",
       "    .dataframe tbody tr th {\n",
       "        vertical-align: top;\n",
       "    }\n",
       "\n",
       "    .dataframe thead th {\n",
       "        text-align: right;\n",
       "    }\n",
       "</style>\n",
       "<table border=\"1\" class=\"dataframe\">\n",
       "  <thead>\n",
       "    <tr style=\"text-align: right;\">\n",
       "      <th></th>\n",
       "      <th>corr</th>\n",
       "    </tr>\n",
       "  </thead>\n",
       "  <tbody>\n",
       "    <tr>\n",
       "      <th>0</th>\n",
       "      <td>0.286827</td>\n",
       "    </tr>\n",
       "  </tbody>\n",
       "</table>\n",
       "</div>"
      ],
      "text/plain": [
       "       corr\n",
       "0  0.286827"
      ]
     },
     "execution_count": 38,
     "metadata": {},
     "output_type": "execute_result"
    }
   ],
   "source": [
    "sql = \"\"\"\n",
    "SELECT corr(median_income, score) \n",
    "FROM scores\n",
    "\"\"\"\n",
    "query(conn, sql)"
   ]
  },
  {
   "attachments": {},
   "cell_type": "markdown",
   "id": "b3427d36",
   "metadata": {},
   "source": [
    "#### Correlation between extended z-score and income"
   ]
  },
  {
   "cell_type": "code",
   "execution_count": 39,
   "id": "a7bba06d",
   "metadata": {},
   "outputs": [
    {
     "data": {
      "text/html": [
       "<div>\n",
       "<style scoped>\n",
       "    .dataframe tbody tr th:only-of-type {\n",
       "        vertical-align: middle;\n",
       "    }\n",
       "\n",
       "    .dataframe tbody tr th {\n",
       "        vertical-align: top;\n",
       "    }\n",
       "\n",
       "    .dataframe thead th {\n",
       "        text-align: right;\n",
       "    }\n",
       "</style>\n",
       "<table border=\"1\" class=\"dataframe\">\n",
       "  <thead>\n",
       "    <tr style=\"text-align: right;\">\n",
       "      <th></th>\n",
       "      <th>corr</th>\n",
       "    </tr>\n",
       "  </thead>\n",
       "  <tbody>\n",
       "    <tr>\n",
       "      <th>0</th>\n",
       "      <td>0.378184</td>\n",
       "    </tr>\n",
       "  </tbody>\n",
       "</table>\n",
       "</div>"
      ],
      "text/plain": [
       "       corr\n",
       "0  0.378184"
      ]
     },
     "execution_count": 39,
     "metadata": {},
     "output_type": "execute_result"
    }
   ],
   "source": [
    "sql = \"\"\"\n",
    "SELECT corr(median_income, score) \n",
    "FROM ext_scores\n",
    "\"\"\"\n",
    "\n",
    "query(conn, sql)"
   ]
  },
  {
   "attachments": {},
   "cell_type": "markdown",
   "id": "b28feedb",
   "metadata": {},
   "source": [
    "## 5. Visualisations"
   ]
  },
  {
   "attachments": {},
   "cell_type": "markdown",
   "id": "a70464be",
   "metadata": {},
   "source": [
    "#### Correlation Analysis"
   ]
  },
  {
   "cell_type": "code",
   "execution_count": 40,
   "id": "903f173d",
   "metadata": {
    "scrolled": true
   },
   "outputs": [],
   "source": [
    "sql = \"\"\"\n",
    "SELECT median_income, score\n",
    "FROM scores\n",
    "\"\"\"\n",
    "z_score = pd.read_sql_query(sql, conn)\n",
    "z_score.dropna(inplace=True)\n",
    "\n",
    "sql = \"\"\"\n",
    "SELECT median_income, score\n",
    "FROM ext_scores\n",
    "\"\"\"\n",
    "z_score_full = pd.read_sql_query(sql, conn)\n",
    "z_score_full.dropna(inplace=True)"
   ]
  },
  {
   "cell_type": "code",
   "execution_count": 41,
   "id": "56bcda6f",
   "metadata": {},
   "outputs": [
    {
     "data": {
      "text/plain": [
       "Text(0, 0.5, 'Income')"
      ]
     },
     "execution_count": 41,
     "metadata": {},
     "output_type": "execute_result"
    },
    {
     "data": {
      "image/png": "[encoded data removed]",
      "text/plain": [
       "<Figure size 1000x300 with 2 Axes>"
      ]
     },
     "metadata": {},
     "output_type": "display_data"
    }
   ],
   "source": [
    "plt.style.use('seaborn')\n",
    "f = plt.figure(figsize=(10,3))\n",
    "f1 = f.add_subplot(121)\n",
    "f2 = f.add_subplot(122)\n",
    "\n",
    "a, b = np.polyfit(z_score[\"score\"], z_score[\"median_income\"], 1)\n",
    "x = np.linspace(0, 1, 1000)\n",
    "f1.scatter(z_score[\"score\"], z_score[\"median_income\"], color='steelblue', s = 20)\n",
    "f1.plot(x, a*x+b, 'r', linestyle='--')\n",
    "f1.text(0, 80000, 'income = {:.0f} + {:.0f}*'.format(b, a) + 'score\\n', size=10)\n",
    "f1.text(0, 80000, 'r = {:.2f}'.format(z_score.corr()[\"median_income\"][\"score\"]), size=10)\n",
    "f1.set_title(\"Correlation Between Score and Income \\n (without additional datasets)\" )\n",
    "f1.set_xlabel(\"Score\")\n",
    "f1.set_ylabel(\"Income\")\n",
    "\n",
    "a, b = np.polyfit(z_score_full[\"score\"], z_score_full[\"median_income\"], 1)\n",
    "f2.scatter(z_score_full[\"score\"], z_score_full[\"median_income\"], color='steelblue', s = 20)\n",
    "f2.plot(x, a*x+b, 'r', linestyle='--')\n",
    "f2.text(0, 80000, 'income = {:.0f} + {:.0f}*'.format(b, a) + 'score\\n', size=10)\n",
    "f2.text(0, 80000, 'r = {:.2f}'.format(z_score_full.corr()[\"median_income\"][\"score\"]), size=10)\n",
    "f2.set_title(\"Correlation Between Score and Income\\n (with additional datasets)\" )\n",
    "f2.set_xlabel(\"Score\")\n",
    "f2.set_ylabel(\"Income\")"
   ]
  },
  {
   "attachments": {},
   "cell_type": "markdown",
   "id": "71be2bcb",
   "metadata": {},
   "source": [
    "#### Interactive Map"
   ]
  },
  {
   "cell_type": "code",
   "execution_count": 24,
   "id": "7c8f3c22",
   "metadata": {},
   "outputs": [],
   "source": [
    "all_regions_data = gpd.GeoDataFrame.from_postgis(\"\"\"\n",
    "    SELECT ext_query_table.*, ext_scores.score\n",
    "    FROM ext_query_table\n",
    "    JOIN ext_scores USING (sa2_code)\n",
    "\"\"\", conn)\n",
    "\n",
    "unscored_regions = all_regions_data[all_regions_data[\"score\"].isna()]\n",
    "scored_regions = all_regions_data[all_regions_data[\"score\"].notna()]"
   ]
  },
  {
   "cell_type": "code",
   "execution_count": 21,
   "id": "a28c164b",
   "metadata": {},
   "outputs": [],
   "source": [
    "from bokeh.io import show\n",
    "from bokeh.models import (ColorBar, GeoJSONDataSource, HoverTool, LinearColorMapper)\n",
    "from bokeh.palettes import brewer\n",
    "from bokeh.plotting import figure, output_file, save\n",
    "\n",
    "scored_source = GeoJSONDataSource(geojson = scored_regions.to_json())\n",
    "unscored_source = GeoJSONDataSource(geojson = unscored_regions.to_json())\n",
    "\n",
    "palette = brewer['RdPu'][9][::-1]\n",
    "color_mapper = LinearColorMapper(palette = palette, low = 0, high = 1)\n",
    "color_bar = ColorBar(color_mapper = color_mapper, \n",
    "                     orientation = 'horizontal',\n",
    "                     title=\"Score\")\n",
    "\n",
    "score_map = figure(\n",
    "    title = 'Extended Score Function by SA2 Region', \n",
    "    toolbar_location = 'above',\n",
    "    tools = 'box_zoom, pan, wheel_zoom, reset')\n",
    "\n",
    "scored_renderer = score_map.patches('xs','ys', \n",
    "                    source = scored_source,\n",
    "                    fill_color = {'field': 'score',\n",
    "                                 'transform': color_mapper},\n",
    "                    line_color = 'black', \n",
    "                    line_width = 0.75)\n",
    "unscored_renderer = score_map.patches('xs','ys', \n",
    "                    source = unscored_source,\n",
    "                    fill_color = '#000000',\n",
    "                    line_color = 'red',\n",
    "                    line_width = 0.5,\n",
    "                    fill_alpha=0.5)\n",
    "\n",
    "score_map.add_tools(HoverTool(renderers = [scored_renderer, unscored_renderer],\n",
    "                        tooltips = [('Region', '@sa2_name'),\n",
    "                                    ('Score', '@score{0.000}'),\n",
    "                                    ('Median Income', '@median_income{000,000}'),\n",
    "                                    ('Population', '@total_people{000,000}'),\n",
    "                                    ('Retail Businesses', '@n_retail'),\n",
    "                                    ('Health Businesses', '@n_health'),\n",
    "                                    ('Public Transport Stops', '@n_stops'),\n",
    "                                    ('Election Polls', '@n_polls'),\n",
    "                                    ('School Catchments', '@n_catchments'),\n",
    "                                    ('Est. Homeless Population', '@homeless_persons'),\n",
    "                                    ('Emergency Health Services', '@n_emergency'),\n",
    "                                    ('Government Expenditure', '@expenditure{$000,000}')]))\n",
    "\n",
    "score_map.add_layout(color_bar, 'below')\n",
    "\n",
    "output_file(filename=\"sa2_score_map.html\", title=\"Extended Score Function by SA2 Region Interactive Map\")\n",
    "save(score_map)\n",
    "show(score_map)"
   ]
  },
  {
   "attachments": {},
   "cell_type": "markdown",
   "id": "27db968e",
   "metadata": {},
   "source": [
    "#### Score Distribution"
   ]
  },
  {
   "cell_type": "code",
   "execution_count": 25,
   "id": "047f6a2a",
   "metadata": {},
   "outputs": [
    {
     "data": {
      "image/png": "[encoded data removed]",
      "text/plain": [
       "<Figure size 800x550 with 1 Axes>"
      ]
     },
     "metadata": {},
     "output_type": "display_data"
    }
   ],
   "source": [
    "fig, ax = plt.subplots()\n",
    "\n",
    "n, bins, patches = ax.hist(scored_regions[\"score\"], 25, edgecolor=\"black\")\n",
    "\n",
    "bin_centers = 0.5 * (bins[:-1] + bins[1:])\n",
    "col = bin_centers - min(bin_centers)\n",
    "col /= max(col)\n",
    "cm = plt.cm.get_cmap('RdPu')\n",
    "for c, p in zip(col[::-1], patches):\n",
    "    plt.setp(p, 'facecolor', cm(c))\n",
    "\n",
    "ax.set_title(\"Distribution of Scores\")\n",
    "ax.set_xlabel(\"Score\")\n",
    "ax.set_ylabel(\"Number of Regions\")\n",
    "\n",
    "fig.savefig(\"score_distribution.pdf\")"
   ]
  },
  {
   "attachments": {},
   "cell_type": "markdown",
   "id": "3d9c1dbc",
   "metadata": {},
   "source": [
    "# 6. Closing Connection"
   ]
  },
  {
   "cell_type": "code",
   "execution_count": 26,
   "id": "8cb24777",
   "metadata": {},
   "outputs": [],
   "source": [
    "conn.close()"
   ]
  }
 ],
 "metadata": {
  "kernelspec": {
   "display_name": "Python 3 (ipykernel)",
   "language": "python",
   "name": "python3"
  },
  "language_info": {
   "codemirror_mode": {
    "name": "ipython",
    "version": 3
   },
   "file_extension": ".py",
   "mimetype": "text/x-python",
   "name": "python",
   "nbconvert_exporter": "python",
   "pygments_lexer": "ipython3",
   "version": "3.9.15"
  }
 },
 "nbformat": 4,
 "nbformat_minor": 5
}
